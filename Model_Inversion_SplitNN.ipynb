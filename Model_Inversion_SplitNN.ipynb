{
  "nbformat": 4,
  "nbformat_minor": 0,
  "metadata": {
    "kernelspec": {
      "display_name": "Python 3",
      "language": "python",
      "name": "python3"
    },
    "language_info": {
      "codemirror_mode": {
        "name": "ipython",
        "version": 3
      },
      "file_extension": ".py",
      "mimetype": "text/x-python",
      "name": "python",
      "nbconvert_exporter": "python",
      "pygments_lexer": "ipython3",
      "version": "3.7.8"
    },
    "colab": {
      "name": "Model_Inversion_SplitNN.ipynb",
      "provenance": [],
      "include_colab_link": true
    },
    "accelerator": "GPU"
  },
  "cells": [
    {
      "cell_type": "markdown",
      "metadata": {
        "id": "view-in-github",
        "colab_type": "text"
      },
      "source": [
        "<a href=\"https://colab.research.google.com/github/NikolaosBouas/Model-Inversion-VFL-SplitNN/blob/main/Model_Inversion_SplitNN.ipynb\" target=\"_parent\"><img src=\"https://colab.research.google.com/assets/colab-badge.svg\" alt=\"Open In Colab\"/></a>"
      ]
    },
    {
      "cell_type": "markdown",
      "metadata": {
        "id": "rjh3z7YD7u1z"
      },
      "source": [
        "# Model Inversion Attack on Split Neural Networks for Vertical Federated Learning\n",
        "\n",
        "- <b>Alice</b>\n",
        "    - Has model Segment 1\n",
        "    - Has the handwritten Images\n",
        "- <b>Bob</b>\n",
        "    - Has model Segment 2\n",
        "    - Has the image Labels"
      ]
    },
    {
      "cell_type": "code",
      "metadata": {
        "colab": {
          "base_uri": "https://localhost:8080/"
        },
        "id": "xa__VgafcB4G",
        "outputId": "8297c0db-88ab-4dbc-f0f0-700be59caa90"
      },
      "source": [
        "from google.colab import drive\n",
        "drive.mount('/content/drive/')"
      ],
      "execution_count": 19,
      "outputs": [
        {
          "output_type": "stream",
          "text": [
            "Drive already mounted at /content/drive/; to attempt to forcibly remount, call drive.mount(\"/content/drive/\", force_remount=True).\n"
          ],
          "name": "stdout"
        }
      ]
    },
    {
      "cell_type": "markdown",
      "metadata": {
        "id": "hod8A9HXL6_8"
      },
      "source": [
        "Cloning the PyVertical repository to use modules contained there."
      ]
    },
    {
      "cell_type": "code",
      "metadata": {
        "colab": {
          "base_uri": "https://localhost:8080/"
        },
        "id": "69n6ePpiAjiB",
        "outputId": "7398e5f4-6a4d-4d3d-d983-bbf56dcf3502"
      },
      "source": [
        "!git clone https://github.com/OpenMined/PyVertical.git"
      ],
      "execution_count": 4,
      "outputs": [
        {
          "output_type": "stream",
          "text": [
            "Cloning into 'PyVertical'...\n",
            "remote: Enumerating objects: 1129, done.\u001b[K\n",
            "remote: Counting objects: 100% (69/69), done.\u001b[K\n",
            "remote: Compressing objects: 100% (48/48), done.\u001b[K\n",
            "remote: Total 1129 (delta 31), reused 45 (delta 20), pack-reused 1060\u001b[K\n",
            "Receiving objects: 100% (1129/1129), 24.43 MiB | 26.81 MiB/s, done.\n",
            "Resolving deltas: 100% (567/567), done.\n"
          ],
          "name": "stdout"
        }
      ]
    },
    {
      "cell_type": "code",
      "metadata": {
        "id": "9aOusMzdAt59",
        "colab": {
          "base_uri": "https://localhost:8080/"
        },
        "outputId": "47195b7a-6f67-4e52-983e-e478cb037edb"
      },
      "source": [
        "%cd PyVertical"
      ],
      "execution_count": 1,
      "outputs": [
        {
          "output_type": "stream",
          "text": [
            "/content/PyVertical\n"
          ],
          "name": "stdout"
        }
      ]
    },
    {
      "cell_type": "markdown",
      "metadata": {
        "id": "T1mlCEuxMEE3"
      },
      "source": [
        "Installing necessary packages."
      ]
    },
    {
      "cell_type": "code",
      "metadata": {
        "colab": {
          "base_uri": "https://localhost:8080/",
          "height": 1000
        },
        "id": "LjbJfl-J7_PY",
        "outputId": "dc41318c-12f2-4611-c534-789203ba152a"
      },
      "source": [
        "!pip install syft==\"0.2.2a1\"\n",
        "!pip install syft_proto==\"0.1.1a1.post17\"\n",
        "!pip install openmined.psi"
      ],
      "execution_count": 6,
      "outputs": [
        {
          "output_type": "stream",
          "text": [
            "Collecting syft==0.2.2a1\n",
            "\u001b[?25l  Downloading https://files.pythonhosted.org/packages/8a/3e/d9307f7e183205e19cac0e206fb6de5fb495724835bb91805311a5583c68/syft-0.2.2a1-py3-none-any.whl (337kB)\n",
            "\r\u001b[K     |█                               | 10kB 25.9MB/s eta 0:00:01\r\u001b[K     |██                              | 20kB 30.3MB/s eta 0:00:01\r\u001b[K     |███                             | 30kB 20.8MB/s eta 0:00:01\r\u001b[K     |███▉                            | 40kB 23.9MB/s eta 0:00:01\r\u001b[K     |████▉                           | 51kB 25.2MB/s eta 0:00:01\r\u001b[K     |█████▉                          | 61kB 27.6MB/s eta 0:00:01\r\u001b[K     |██████▉                         | 71kB 18.8MB/s eta 0:00:01\r\u001b[K     |███████▊                        | 81kB 20.1MB/s eta 0:00:01\r\u001b[K     |████████▊                       | 92kB 18.9MB/s eta 0:00:01\r\u001b[K     |█████████▊                      | 102kB 20.2MB/s eta 0:00:01\r\u001b[K     |██████████▊                     | 112kB 20.2MB/s eta 0:00:01\r\u001b[K     |███████████▋                    | 122kB 20.2MB/s eta 0:00:01\r\u001b[K     |████████████▋                   | 133kB 20.2MB/s eta 0:00:01\r\u001b[K     |█████████████▋                  | 143kB 20.2MB/s eta 0:00:01\r\u001b[K     |██████████████▌                 | 153kB 20.2MB/s eta 0:00:01\r\u001b[K     |███████████████▌                | 163kB 20.2MB/s eta 0:00:01\r\u001b[K     |████████████████▌               | 174kB 20.2MB/s eta 0:00:01\r\u001b[K     |█████████████████▌              | 184kB 20.2MB/s eta 0:00:01\r\u001b[K     |██████████████████▍             | 194kB 20.2MB/s eta 0:00:01\r\u001b[K     |███████████████████▍            | 204kB 20.2MB/s eta 0:00:01\r\u001b[K     |████████████████████▍           | 215kB 20.2MB/s eta 0:00:01\r\u001b[K     |█████████████████████▍          | 225kB 20.2MB/s eta 0:00:01\r\u001b[K     |██████████████████████▎         | 235kB 20.2MB/s eta 0:00:01\r\u001b[K     |███████████████████████▎        | 245kB 20.2MB/s eta 0:00:01\r\u001b[K     |████████████████████████▎       | 256kB 20.2MB/s eta 0:00:01\r\u001b[K     |█████████████████████████▏      | 266kB 20.2MB/s eta 0:00:01\r\u001b[K     |██████████████████████████▏     | 276kB 20.2MB/s eta 0:00:01\r\u001b[K     |███████████████████████████▏    | 286kB 20.2MB/s eta 0:00:01\r\u001b[K     |████████████████████████████▏   | 296kB 20.2MB/s eta 0:00:01\r\u001b[K     |█████████████████████████████   | 307kB 20.2MB/s eta 0:00:01\r\u001b[K     |██████████████████████████████  | 317kB 20.2MB/s eta 0:00:01\r\u001b[K     |███████████████████████████████ | 327kB 20.2MB/s eta 0:00:01\r\u001b[K     |████████████████████████████████| 337kB 20.2MB/s \n",
            "\u001b[?25hCollecting phe>=1.4.0\n",
            "  Downloading https://files.pythonhosted.org/packages/32/0e/568e97b014eb14e794a1258a341361e9da351dc6240c63b89e1541e3341c/phe-1.4.0.tar.gz\n",
            "Collecting websockets>=7.0\n",
            "\u001b[?25l  Downloading https://files.pythonhosted.org/packages/5a/0b/3ebc752392a368af14dd24ee041683416ac6d2463eead94b311b11e41c82/websockets-8.1-cp37-cp37m-manylinux2010_x86_64.whl (79kB)\n",
            "\u001b[K     |████████████████████████████████| 81kB 9.9MB/s \n",
            "\u001b[?25hCollecting flask-socketio>=3.3.2\n",
            "  Downloading https://files.pythonhosted.org/packages/05/ff/4de07d38fd2a4fb6326d96a2ecf9fb48026c3f064bc600f33fde0dc1c891/Flask_SocketIO-5.0.1-py2.py3-none-any.whl\n",
            "Requirement already satisfied: Flask>=1.0.2 in /usr/local/lib/python3.7/dist-packages (from syft==0.2.2a1) (1.1.2)\n",
            "Collecting syft-proto>=0.1.0a1.post23\n",
            "\u001b[?25l  Downloading https://files.pythonhosted.org/packages/da/88/67edf7836ac4eab723416933cd663c4f87753d3ff31337f91701c0b75474/syft_proto-0.5.3-py3-none-any.whl (66kB)\n",
            "\u001b[K     |████████████████████████████████| 71kB 9.7MB/s \n",
            "\u001b[?25hRequirement already satisfied: scipy>=1.4.1 in /usr/local/lib/python3.7/dist-packages (from syft==0.2.2a1) (1.4.1)\n",
            "Collecting torch==1.3\n",
            "\u001b[?25l  Downloading https://files.pythonhosted.org/packages/b4/0b/9d33aef363b6728ad937643d98be713c6c25d50ce338678ad57cee6e6fd5/torch-1.3.0-cp37-cp37m-manylinux1_x86_64.whl (773.1MB)\n",
            "\u001b[K     |████████████████████████████████| 773.1MB 24kB/s \n",
            "\u001b[?25hCollecting torchvision==0.4.1\n",
            "\u001b[?25l  Downloading https://files.pythonhosted.org/packages/72/b9/5e22c25a201b80cd599af910200b66872af5f5404a13dc76e9ce1a988bed/torchvision-0.4.1-cp37-cp37m-manylinux1_x86_64.whl (10.1MB)\n",
            "\u001b[K     |████████████████████████████████| 10.2MB 33.1MB/s \n",
            "\u001b[?25hCollecting lz4>=2.1.6\n",
            "\u001b[?25l  Downloading https://files.pythonhosted.org/packages/e3/52/151c815a486290608e4dc6699a0cfd74141dc5191f8fe928e7d1b28b569e/lz4-3.1.3-cp37-cp37m-manylinux2010_x86_64.whl (1.8MB)\n",
            "\u001b[K     |████████████████████████████████| 1.8MB 45.0MB/s \n",
            "\u001b[?25hRequirement already satisfied: msgpack>=0.6.1 in /usr/local/lib/python3.7/dist-packages (from syft==0.2.2a1) (1.0.2)\n",
            "Collecting zstd>=1.4.0.0\n",
            "\u001b[?25l  Downloading https://files.pythonhosted.org/packages/cd/45/17c0b5ec0036039e152baa8f48655b5fbb5b422b12baff058fd57d00518c/zstd-1.4.9.1.tar.gz (516kB)\n",
            "\u001b[K     |████████████████████████████████| 522kB 52.7MB/s \n",
            "\u001b[?25hRequirement already satisfied: tblib>=1.4.0 in /usr/local/lib/python3.7/dist-packages (from syft==0.2.2a1) (1.7.0)\n",
            "Collecting websocket-client>=0.56.0\n",
            "\u001b[?25l  Downloading https://files.pythonhosted.org/packages/08/33/80e0d4f60e84a1ddd9a03f340be1065a2a363c47ce65c4bd3bae65ce9631/websocket_client-0.58.0-py2.py3-none-any.whl (61kB)\n",
            "\u001b[K     |████████████████████████████████| 61kB 9.0MB/s \n",
            "\u001b[?25hRequirement already satisfied: numpy>=1.16.0 in /usr/local/lib/python3.7/dist-packages (from syft==0.2.2a1) (1.19.5)\n",
            "Collecting Pillow<7\n",
            "\u001b[?25l  Downloading https://files.pythonhosted.org/packages/c3/3f/03375124676ab49ca6e6917c0f1f663afb8354d5d24e12f4fe4587a39ae2/Pillow-6.2.2-cp37-cp37m-manylinux1_x86_64.whl (2.1MB)\n",
            "\u001b[K     |████████████████████████████████| 2.1MB 46.0MB/s \n",
            "\u001b[?25hCollecting python-socketio>=5.0.2\n",
            "\u001b[?25l  Downloading https://files.pythonhosted.org/packages/8a/c9/92fad6354c2a9c62af26f3540aeb3fa9bdeb6c684f6ed3e4ff315ca8a333/python_socketio-5.2.0-py2.py3-none-any.whl (53kB)\n",
            "\u001b[K     |████████████████████████████████| 61kB 8.7MB/s \n",
            "\u001b[?25hRequirement already satisfied: Werkzeug>=0.15 in /usr/local/lib/python3.7/dist-packages (from Flask>=1.0.2->syft==0.2.2a1) (1.0.1)\n",
            "Requirement already satisfied: Jinja2>=2.10.1 in /usr/local/lib/python3.7/dist-packages (from Flask>=1.0.2->syft==0.2.2a1) (2.11.3)\n",
            "Requirement already satisfied: click>=5.1 in /usr/local/lib/python3.7/dist-packages (from Flask>=1.0.2->syft==0.2.2a1) (7.1.2)\n",
            "Requirement already satisfied: itsdangerous>=0.24 in /usr/local/lib/python3.7/dist-packages (from Flask>=1.0.2->syft==0.2.2a1) (1.1.0)\n",
            "Requirement already satisfied: protobuf>=3.12.2 in /usr/local/lib/python3.7/dist-packages (from syft-proto>=0.1.0a1.post23->syft==0.2.2a1) (3.12.4)\n",
            "Requirement already satisfied: six in /usr/local/lib/python3.7/dist-packages (from torchvision==0.4.1->syft==0.2.2a1) (1.15.0)\n",
            "Collecting bidict>=0.21.0\n",
            "  Downloading https://files.pythonhosted.org/packages/67/d4/eaf9242722bf991e0955380dd6168020cb15a71cc0d3cc2373f4911b1f1d/bidict-0.21.2-py2.py3-none-any.whl\n",
            "Collecting python-engineio>=4.1.0\n",
            "\u001b[?25l  Downloading https://files.pythonhosted.org/packages/46/f6/9515c8357935d4fe58b526ab5b4857245948fa1b5f607cf63d4663cce5c2/python_engineio-4.1.0-py2.py3-none-any.whl (51kB)\n",
            "\u001b[K     |████████████████████████████████| 61kB 8.2MB/s \n",
            "\u001b[?25hRequirement already satisfied: MarkupSafe>=0.23 in /usr/local/lib/python3.7/dist-packages (from Jinja2>=2.10.1->Flask>=1.0.2->syft==0.2.2a1) (1.1.1)\n",
            "Requirement already satisfied: setuptools in /usr/local/lib/python3.7/dist-packages (from protobuf>=3.12.2->syft-proto>=0.1.0a1.post23->syft==0.2.2a1) (54.2.0)\n",
            "Building wheels for collected packages: phe, zstd\n",
            "  Building wheel for phe (setup.py) ... \u001b[?25l\u001b[?25hdone\n",
            "  Created wheel for phe: filename=phe-1.4.0-py2.py3-none-any.whl size=37362 sha256=78e8eba1a3909cd45a998e475ef58d376854d6ff33af4831c4716fe02f283b0a\n",
            "  Stored in directory: /root/.cache/pip/wheels/f8/dc/36/dcb6bf0f1b9907e7b710ace63e64d08e7022340909315fdea4\n",
            "  Building wheel for zstd (setup.py) ... \u001b[?25l\u001b[?25hdone\n",
            "  Created wheel for zstd: filename=zstd-1.4.9.1-cp37-cp37m-linux_x86_64.whl size=1212721 sha256=0fe33f78b4c0b8b51811ac5ba09bdffa7521e5a98b2f57428b36ff113425b521\n",
            "  Stored in directory: /root/.cache/pip/wheels/d9/cb/49/b1f72e3457c152e16783db6ccf903353cd39a5981dcfef53ae\n",
            "Successfully built phe zstd\n",
            "\u001b[31mERROR: torchtext 0.9.1 has requirement torch==1.8.1, but you'll have torch 1.3.0 which is incompatible.\u001b[0m\n",
            "\u001b[31mERROR: bokeh 2.3.1 has requirement pillow>=7.1.0, but you'll have pillow 6.2.2 which is incompatible.\u001b[0m\n",
            "\u001b[31mERROR: albumentations 0.1.12 has requirement imgaug<0.2.7,>=0.2.5, but you'll have imgaug 0.2.9 which is incompatible.\u001b[0m\n",
            "Installing collected packages: phe, websockets, bidict, python-engineio, python-socketio, flask-socketio, syft-proto, torch, Pillow, torchvision, lz4, zstd, websocket-client, syft\n",
            "  Found existing installation: torch 1.8.1+cu101\n",
            "    Uninstalling torch-1.8.1+cu101:\n",
            "      Successfully uninstalled torch-1.8.1+cu101\n",
            "  Found existing installation: Pillow 7.1.2\n",
            "    Uninstalling Pillow-7.1.2:\n",
            "      Successfully uninstalled Pillow-7.1.2\n",
            "  Found existing installation: torchvision 0.9.1+cu101\n",
            "    Uninstalling torchvision-0.9.1+cu101:\n",
            "      Successfully uninstalled torchvision-0.9.1+cu101\n",
            "Successfully installed Pillow-6.2.2 bidict-0.21.2 flask-socketio-5.0.1 lz4-3.1.3 phe-1.4.0 python-engineio-4.1.0 python-socketio-5.2.0 syft-0.2.2a1 syft-proto-0.5.3 torch-1.3.0 torchvision-0.4.1 websocket-client-0.58.0 websockets-8.1 zstd-1.4.9.1\n"
          ],
          "name": "stdout"
        },
        {
          "output_type": "display_data",
          "data": {
            "application/vnd.colab-display-data+json": {
              "pip_warning": {
                "packages": [
                  "PIL"
                ]
              }
            }
          },
          "metadata": {
            "tags": []
          }
        },
        {
          "output_type": "stream",
          "text": [
            "Collecting syft_proto==0.1.1a1.post17\n",
            "\u001b[?25l  Downloading https://files.pythonhosted.org/packages/e8/50/f5d1d0356468edd7571962789a8b426037033d79017f24602690220e5ab0/syft_proto-0.1.1a1.post17-py3-none-any.whl (40kB)\n",
            "\r\u001b[K     |████████▏                       | 10kB 23.4MB/s eta 0:00:01\r\u001b[K     |████████████████▍               | 20kB 30.1MB/s eta 0:00:01\r\u001b[K     |████████████████████████▌       | 30kB 23.8MB/s eta 0:00:01\r\u001b[K     |████████████████████████████████| 40kB 5.1MB/s \n",
            "\u001b[?25hRequirement already satisfied: protobuf>=3.11.1 in /usr/local/lib/python3.7/dist-packages (from syft_proto==0.1.1a1.post17) (3.12.4)\n",
            "Requirement already satisfied: setuptools in /usr/local/lib/python3.7/dist-packages (from protobuf>=3.11.1->syft_proto==0.1.1a1.post17) (54.2.0)\n",
            "Requirement already satisfied: six>=1.9 in /usr/local/lib/python3.7/dist-packages (from protobuf>=3.11.1->syft_proto==0.1.1a1.post17) (1.15.0)\n",
            "Installing collected packages: syft-proto\n",
            "  Found existing installation: syft-proto 0.5.3\n",
            "    Uninstalling syft-proto-0.5.3:\n",
            "      Successfully uninstalled syft-proto-0.5.3\n",
            "Successfully installed syft-proto-0.1.1a1.post17\n",
            "Collecting openmined.psi\n",
            "\u001b[?25l  Downloading https://files.pythonhosted.org/packages/c7/48/f883f306ad132b3fe7fc5c5e99581793a155e5b70094b03e833affc443e4/openmined.psi-0.3.5-cp37-cp37m-manylinux2014_x86_64.whl (1.9MB)\n",
            "\u001b[K     |████████████████████████████████| 1.9MB 16.4MB/s \n",
            "\u001b[?25hRequirement already satisfied: protobuf in /usr/local/lib/python3.7/dist-packages (from openmined.psi) (3.12.4)\n",
            "Requirement already satisfied: six>=1.9 in /usr/local/lib/python3.7/dist-packages (from protobuf->openmined.psi) (1.15.0)\n",
            "Requirement already satisfied: setuptools in /usr/local/lib/python3.7/dist-packages (from protobuf->openmined.psi) (54.2.0)\n",
            "Installing collected packages: openmined.psi\n",
            "Successfully installed openmined.psi-0.3.5\n"
          ],
          "name": "stdout"
        }
      ]
    },
    {
      "cell_type": "markdown",
      "metadata": {
        "id": "tLWZglotMI9g"
      },
      "source": [
        "Importing necessary dependencies."
      ]
    },
    {
      "cell_type": "code",
      "metadata": {
        "id": "x0NEdWbdhKtS"
      },
      "source": [
        "from torchvision.utils import make_grid\n",
        "import numpy as np\n",
        "import pickle"
      ],
      "execution_count": 2,
      "outputs": []
    },
    {
      "cell_type": "code",
      "metadata": {
        "id": "rCmFdFnZ7u11"
      },
      "source": [
        "import sys\n",
        "sys.path.append('../')\n",
        "\n",
        "import torch\n",
        "from torchvision import datasets, transforms\n",
        "from torch import nn, optim\n",
        "from torchvision.datasets import MNIST\n",
        "from torchvision.transforms import ToTensor\n",
        "\n",
        "import syft as sy\n",
        "import torch.nn.functional as F\n",
        "\n",
        "from src.dataloader import VerticalDataLoader\n",
        "from src.psi.util import Client, Server\n",
        "from src.utils import add_ids\n",
        "\n",
        "hook = sy.TorchHook(torch)"
      ],
      "execution_count": 3,
      "outputs": []
    },
    {
      "cell_type": "code",
      "metadata": {
        "id": "PNVAUU3HC-_h"
      },
      "source": [
        "from six.moves import urllib\n",
        "opener = urllib.request.build_opener()\n",
        "opener.addheaders = [('User-agent', 'Mozilla/5.0')]\n",
        "urllib.request.install_opener(opener)\n"
      ],
      "execution_count": 4,
      "outputs": []
    },
    {
      "cell_type": "code",
      "metadata": {
        "id": "7HOV-Uh_7u11"
      },
      "source": [
        "# Create dataset\n",
        "data = add_ids(MNIST)(\".\", download=True, transform=ToTensor())  # add_ids adds unique IDs to data points\n",
        "\n",
        "# Batch data\n",
        "dataloader = VerticalDataLoader(data, batch_size=64) # partition_dataset uses by default \"remove_data=True, keep_order=False\""
      ],
      "execution_count": 5,
      "outputs": []
    },
    {
      "cell_type": "code",
      "metadata": {
        "colab": {
          "base_uri": "https://localhost:8080/"
        },
        "id": "MxQXrYRbarJc",
        "outputId": "36933891-4ee2-43dd-e3a8-11887313548b"
      },
      "source": [
        "GPU = True # Choose whether to use GPU\n",
        "if GPU:\n",
        "    device = torch.device(\"cuda\"  if torch.cuda.is_available() else \"cpu\")\n",
        "else:\n",
        "    device = torch.device(\"cpu\")\n",
        "print(f'Using {device}')"
      ],
      "execution_count": 6,
      "outputs": [
        {
          "output_type": "stream",
          "text": [
            "Using cuda\n"
          ],
          "name": "stdout"
        }
      ]
    },
    {
      "cell_type": "markdown",
      "metadata": {
        "id": "8F8jbXsRMiS6"
      },
      "source": [
        "Defining the split neural network."
      ]
    },
    {
      "cell_type": "code",
      "metadata": {
        "id": "BsJ8uQ5B7u10"
      },
      "source": [
        "class SplitNN:\n",
        "    def __init__(self, models, optimizers, noisy = False, variance = 5):\n",
        "        self.models = models\n",
        "        self.optimizers = optimizers\n",
        "        self.noisy = noisy\n",
        "        self.variance = variance\n",
        "\n",
        "        self.data = []\n",
        "        self.remote_tensors = []\n",
        "\n",
        "    def forward(self, x):\n",
        "        data = []\n",
        "        remote_tensors = []\n",
        "\n",
        "        if(not self.noisy):\n",
        "            data.append(self.models[0](x))\n",
        "        else:\n",
        "            noise = (self.variance**0.5)*torch.randn(x.shape[0], 640)\n",
        "            noise = noise.send(self.models[0].location).to(device)\n",
        "            data.append(self.models[0](x) + noise)\n",
        "\n",
        "        if data[-1].location == self.models[1].location:\n",
        "            remote_tensors.append(data[-1].detach().requires_grad_())\n",
        "        else:\n",
        "            remote_tensors.append(\n",
        "                data[-1].detach().move(self.models[1].location).requires_grad_()\n",
        "            )\n",
        "\n",
        "        i = 1\n",
        "        while i < (len(models) - 1):\n",
        "            data.append(self.models[i](remote_tensors[-1]))\n",
        "\n",
        "            if data[-1].location == self.models[i + 1].location:\n",
        "                remote_tensors.append(data[-1].detach().requires_grad_())\n",
        "            else:\n",
        "                remote_tensors.append(\n",
        "                    data[-1].detach().move(self.models[i + 1].location).requires_grad_()\n",
        "                )\n",
        "\n",
        "            i += 1\n",
        "\n",
        "        data.append(self.models[i](remote_tensors[-1]))\n",
        "\n",
        "        self.data = data\n",
        "        self.remote_tensors = remote_tensors\n",
        "\n",
        "        return data[-1]\n",
        "\n",
        "    def backward(self):\n",
        "        for i in range(len(models) - 2, -1, -1):\n",
        "            if self.remote_tensors[i].location == self.data[i].location:\n",
        "                grads = self.remote_tensors[i].grad.copy()\n",
        "            else:\n",
        "                grads = self.remote_tensors[i].grad.copy().move(self.data[i].location)\n",
        "    \n",
        "            self.data[i].backward(grads)\n",
        "\n",
        "    def zero_grads(self):\n",
        "        for opt in self.optimizers:\n",
        "            opt.zero_grad()\n",
        "\n",
        "    def step(self):\n",
        "        for opt in self.optimizers:\n",
        "            opt.step()"
      ],
      "execution_count": 7,
      "outputs": []
    },
    {
      "cell_type": "markdown",
      "metadata": {
        "id": "5ShmXGCQMog9"
      },
      "source": [
        "Loading the data."
      ]
    },
    {
      "cell_type": "markdown",
      "metadata": {
        "id": "GZN1kyQ57u12"
      },
      "source": [
        "Check if the datasets are ordered."
      ]
    },
    {
      "cell_type": "code",
      "metadata": {
        "scrolled": false,
        "id": "ksvh0BTK7u12",
        "colab": {
          "base_uri": "https://localhost:8080/",
          "height": 76
        },
        "outputId": "53110165-2252-41d8-89a9-6ac49041d2cb"
      },
      "source": [
        "# We need matplotlib library to plot the dataset\n",
        "import matplotlib.pyplot as plt\n",
        "\n",
        "# Plot the first 10 entries of the labels and the dataset\n",
        "figure = plt.figure()\n",
        "num_of_entries = 10\n",
        "for index in range(1, num_of_entries + 1):\n",
        "    plt.subplot(6, 10, index)\n",
        "    plt.axis('off')\n",
        "    plt.imshow(dataloader.dataloader1.dataset.data[index].numpy().squeeze(), cmap='gray_r')\n",
        "    print(dataloader.dataloader2.dataset[index][0], end=\" \")"
      ],
      "execution_count": 8,
      "outputs": [
        {
          "output_type": "stream",
          "text": [
            "8 4 3 8 7 3 0 1 0 1 "
          ],
          "name": "stdout"
        },
        {
          "output_type": "display_data",
          "data": {
            "image/png": "[encoded data removed]",
            "text/plain": [
              "<Figure size 432x288 with 10 Axes>"
            ]
          },
          "metadata": {
            "tags": [],
            "needs_background": "light"
          }
        }
      ]
    },
    {
      "cell_type": "markdown",
      "metadata": {
        "id": "cN8Pms1Z7u13"
      },
      "source": [
        "Since the datasets are not ordered we perform PSI to align them."
      ]
    },
    {
      "cell_type": "code",
      "metadata": {
        "id": "z-5lw-tn7u14"
      },
      "source": [
        "# Compute private set intersection\n",
        "client_items = dataloader.dataloader1.dataset.get_ids()\n",
        "server_items = dataloader.dataloader2.dataset.get_ids()\n",
        "\n",
        "client = Client(client_items)\n",
        "server = Server(server_items)\n",
        "\n",
        "setup, response = server.process_request(client.request, len(client_items))\n",
        "intersection = client.compute_intersection(setup, response)\n",
        "\n",
        "# Order data\n",
        "dataloader.drop_non_intersecting(intersection)\n",
        "dataloader.sort_by_ids()"
      ],
      "execution_count": 9,
      "outputs": []
    },
    {
      "cell_type": "markdown",
      "metadata": {
        "id": "6rvqofqV7u14"
      },
      "source": [
        "Check again if the datasets are ordered and see that they are!"
      ]
    },
    {
      "cell_type": "code",
      "metadata": {
        "id": "PhDgLxs57u14",
        "colab": {
          "base_uri": "https://localhost:8080/",
          "height": 76
        },
        "outputId": "8b7c5195-e14a-4355-bf96-106b9af0a613"
      },
      "source": [
        "# We need matplotlib library to plot the dataset\n",
        "import matplotlib.pyplot as plt\n",
        "\n",
        "# Plot the first 10 entries of the labels and the dataset\n",
        "figure = plt.figure()\n",
        "num_of_entries = 10\n",
        "for index in range(1, num_of_entries + 1):\n",
        "    plt.subplot(6, 10, index)\n",
        "    plt.axis('off')\n",
        "    plt.imshow(dataloader.dataloader1.dataset.data[index].numpy().squeeze(), cmap='gray_r')\n",
        "    print(dataloader.dataloader2.dataset[index][0], end=\" \")"
      ],
      "execution_count": 10,
      "outputs": [
        {
          "output_type": "stream",
          "text": [
            "3 4 2 4 5 5 6 5 6 2 "
          ],
          "name": "stdout"
        },
        {
          "output_type": "display_data",
          "data": {
            "image/png": "[encoded data removed]",
            "text/plain": [
              "<Figure size 432x288 with 10 Axes>"
            ]
          },
          "metadata": {
            "tags": [],
            "needs_background": "light"
          }
        }
      ]
    },
    {
      "cell_type": "markdown",
      "metadata": {
        "id": "WdQUqJbcM_zh"
      },
      "source": [
        "Define the sub-models that Alice and Bob hold. Change the split_layer parameter to 9, 11, 13, 15, 17 to specify that split layer is the first, second, third, fourth or fifth fully connected layer respectively."
      ]
    },
    {
      "cell_type": "code",
      "metadata": {
        "id": "tC2LFwpo7u15"
      },
      "source": [
        "torch.manual_seed(0)\n",
        "\n",
        "# Define our model segments\n",
        "split_layer = 17\n",
        "output_size = 10\n",
        "init_channels = 16\n",
        "image_channels = 1\n",
        "kernel_size = 4\n",
        "hidden_sizes = [64*36, 640]\n",
        "\n",
        "modules = []\n",
        "modules.append(\n",
        "        nn.Conv2d(\n",
        "            in_channels=image_channels, out_channels=init_channels, kernel_size=kernel_size, \n",
        "            stride=2, padding=1\n",
        "            )\n",
        "        )\n",
        "modules.append(nn.ReLU())\n",
        "modules.append(\n",
        "        nn.Conv2d(\n",
        "            in_channels=init_channels, out_channels=init_channels*2, kernel_size=kernel_size, \n",
        "            stride=2, padding=1\n",
        "            )\n",
        "        )\n",
        "modules.append(nn.ReLU())\n",
        "modules.append(\n",
        "        nn.Conv2d(\n",
        "            in_channels=init_channels*2, out_channels=init_channels*4, kernel_size=kernel_size, \n",
        "            stride=1, padding=1\n",
        "            )\n",
        "        )\n",
        "modules.append(nn.ReLU())\n",
        "modules.append(nn.Flatten())\n",
        "modules.append(nn.Linear(hidden_sizes[0], hidden_sizes[1]))\n",
        "modules.append(nn.ReLU())\n",
        "modules.append(nn.Linear(hidden_sizes[1], hidden_sizes[1]))\n",
        "modules.append(nn.ReLU())\n",
        "modules.append(nn.Linear(hidden_sizes[1], hidden_sizes[1]))\n",
        "modules.append(nn.ReLU())\n",
        "modules.append(nn.Linear(hidden_sizes[1], hidden_sizes[1]))\n",
        "modules.append(nn.ReLU())\n",
        "modules.append(nn.Linear(hidden_sizes[1], hidden_sizes[1]))\n",
        "modules.append(nn.ReLU())\n",
        "modules.append(nn.Linear(hidden_sizes[1], output_size))\n",
        "modules.append(nn.LogSoftmax(dim=1))\n",
        "\n",
        "\n",
        "models = [\n",
        "    nn.Sequential(*modules[:split_layer]),\n",
        "    nn.Sequential(*modules[split_layer:]),\n",
        "]\n",
        "\n",
        "for model in models:\n",
        "    model = model.to(device)\n",
        "\n",
        "# Create optimisers for each segment and link to them\n",
        "optimizers = [\n",
        "    optim.Adam(model.parameters(), lr=0.001,)\n",
        "    for model in models\n",
        "]\n",
        "\n",
        "# create some workers\n",
        "alice = sy.VirtualWorker(hook, id=\"alice\")\n",
        "bob = sy.VirtualWorker(hook, id=\"bob\")\n",
        "\n",
        "# Send Model Segments to model locations\n",
        "model_locations = [alice, bob]\n",
        "for model, location in zip(models, model_locations):\n",
        "    model.send(location)\n",
        "\n",
        "#Instantiate a SpliNN class with our distributed segments and their respective optimizers\n",
        "splitNN = SplitNN(models, optimizers)"
      ],
      "execution_count": 22,
      "outputs": []
    },
    {
      "cell_type": "markdown",
      "metadata": {
        "id": "U91nUbStNhwB"
      },
      "source": [
        "Function to train the Split NN."
      ]
    },
    {
      "cell_type": "code",
      "metadata": {
        "id": "zqiw6J_d7u16"
      },
      "source": [
        "def train(x, target, splitNN):\n",
        "    \n",
        "    #1) Zero our grads\n",
        "    splitNN.zero_grads()\n",
        "    \n",
        "    #2) Make a prediction\n",
        "    pred = splitNN.forward(x)\n",
        "    \n",
        "    #3) Figure out how much we missed by\n",
        "    criterion = nn.NLLLoss()\n",
        "    loss = criterion(pred, target)\n",
        "    \n",
        "    #4) Backprop the loss on the end layer\n",
        "    loss.backward()\n",
        "    \n",
        "    #5) Feed Gradients backward through the nework\n",
        "    splitNN.backward()\n",
        "    \n",
        "    #6) Change the weights\n",
        "    splitNN.step()\n",
        "    \n",
        "    return loss, pred"
      ],
      "execution_count": 23,
      "outputs": []
    },
    {
      "cell_type": "markdown",
      "metadata": {
        "id": "xywxFLbRNlMu"
      },
      "source": [
        "We train the network for 5 epochs and observe that we get sufficiently high accuracy. The dataset is really easy and getting a high accuracy is not the point of this notebook."
      ]
    },
    {
      "cell_type": "code",
      "metadata": {
        "id": "um0LwQaO7u16",
        "colab": {
          "base_uri": "https://localhost:8080/"
        },
        "outputId": "f207368a-fd3c-4502-8601-f61c6da35de1"
      },
      "source": [
        "epochs = 5\n",
        "\n",
        "for i in range(epochs):\n",
        "    running_loss = 0\n",
        "    correct_preds = 0\n",
        "    total_preds = 0\n",
        "\n",
        "    for (data, ids1), (labels, ids2) in dataloader:\n",
        "        # Train a model\n",
        "        data, labels = data.to(device), labels.to(device)\n",
        "        data = data.send(models[0].location)\n",
        "        labels = labels.send(models[-1].location)\n",
        "\n",
        "        # Call model\n",
        "        loss, preds = train(data, labels, splitNN)\n",
        "\n",
        "        # Collect statistics\n",
        "        running_loss += loss.get()\n",
        "        correct_preds += preds.max(1)[1].eq(labels).sum().get().item()\n",
        "        total_preds += preds.get().size(0)\n",
        "\n",
        "    print(f\"Epoch {i} - Training loss: {running_loss/len(dataloader):.3f} - Accuracy: {100*correct_preds/total_preds:.3f}\")"
      ],
      "execution_count": 24,
      "outputs": [
        {
          "output_type": "stream",
          "text": [
            "Epoch 0 - Training loss: 0.453 - Accuracy: 83.903\n",
            "Epoch 1 - Training loss: 0.077 - Accuracy: 97.995\n",
            "Epoch 2 - Training loss: 0.051 - Accuracy: 98.690\n",
            "Epoch 3 - Training loss: 0.045 - Accuracy: 98.898\n",
            "Epoch 4 - Training loss: 0.035 - Accuracy: 99.200\n"
          ],
          "name": "stdout"
        }
      ]
    },
    {
      "cell_type": "code",
      "metadata": {
        "id": "dXsFy4vp7u17",
        "colab": {
          "base_uri": "https://localhost:8080/"
        },
        "outputId": "f9a5e0d6-5bb2-4916-a6e4-ddabffcaba5b"
      },
      "source": [
        "print(\"Labels pointing to: \", labels)\n",
        "print(\"Images pointing to: \", data)"
      ],
      "execution_count": 25,
      "outputs": [
        {
          "output_type": "stream",
          "text": [
            "Labels pointing to:  (Wrapper)>[PointerTensor | me:29315833037 -> bob:59759751522]\n",
            "Images pointing to:  (Wrapper)>[PointerTensor | me:30457927442 -> alice:48377016422]\n"
          ],
          "name": "stdout"
        }
      ]
    },
    {
      "cell_type": "markdown",
      "metadata": {
        "id": "hSmPoUxvUV0J"
      },
      "source": [
        "Now let's say a malicious adversary has access to the smashed data that Alice outputs as well as the corresponding inputs. Then the malicious adversary will try to train a model that reconstructs the original input based on the smashed data. We define the architecture of the adversary's model."
      ]
    },
    {
      "cell_type": "code",
      "metadata": {
        "colab": {
          "base_uri": "https://localhost:8080/"
        },
        "id": "n_ft7_1kZl71",
        "outputId": "f1333268-81e3-4349-8b2b-59a9be922ff4"
      },
      "source": [
        "# *CODE FOR PART 1.1a IN THIS CELL*\n",
        "\n",
        "class adversary_model(nn.Module):\n",
        "    def __init__(self):\n",
        "        super(adversary_model, self).__init__()\n",
        "\n",
        "        self.fc = nn.Linear(hidden_sizes[1], hidden_sizes[0])\n",
        "\n",
        "        #Upsampling \n",
        "        self.up1 = nn.ConvTranspose2d(\n",
        "            in_channels=init_channels*4, out_channels=init_channels*2, kernel_size=kernel_size, \n",
        "            stride=1, padding=1\n",
        "        )\n",
        "        self.up2 = nn.ConvTranspose2d(\n",
        "            in_channels=init_channels*2, out_channels=init_channels, kernel_size=kernel_size, \n",
        "            stride=2, padding=1\n",
        "        )\n",
        "        self.up3 = nn.ConvTranspose2d(\n",
        "            in_channels=init_channels, out_channels=image_channels, kernel_size=kernel_size, \n",
        "            stride=2, padding=1\n",
        "        )\n",
        "\n",
        "\n",
        "    def forward(self, z):\n",
        "\n",
        "        z = F.relu(self.fc(z))\n",
        "        z = z.view(-1, 64, 6, 6)\n",
        "        x = F.relu(self.up1(z))\n",
        "        x = F.relu(self.up2(x))\n",
        "\n",
        "        reconstruction = self.up3(x)\n",
        "        return reconstruction\n",
        "\n",
        "\n",
        "\n",
        "adv_model = adversary_model().to(device)\n",
        "print(adv_model)\n",
        "#we assume Bob has the adversary\n",
        "adv_model.send(model_locations[-1])\n",
        "# optimizer\n",
        "adv_optimizer = torch.optim.Adam(adv_model.parameters(), lr=0.001)"
      ],
      "execution_count": 26,
      "outputs": [
        {
          "output_type": "stream",
          "text": [
            "adversary_model(\n",
            "  (fc): Linear(in_features=640, out_features=2304, bias=True)\n",
            "  (up1): ConvTranspose2d(64, 32, kernel_size=(4, 4), stride=(1, 1), padding=(1, 1))\n",
            "  (up2): ConvTranspose2d(32, 16, kernel_size=(4, 4), stride=(2, 2), padding=(1, 1))\n",
            "  (up3): ConvTranspose2d(16, 1, kernel_size=(4, 4), stride=(2, 2), padding=(1, 1))\n",
            ")\n"
          ],
          "name": "stdout"
        }
      ]
    },
    {
      "cell_type": "markdown",
      "metadata": {
        "id": "cGd8l2ejN3m-"
      },
      "source": [
        "We define a simple L1Loss. There may have been better loss options but we are interested in a qualitative comparison between different split options and not in achieving the best reconstruction quality."
      ]
    },
    {
      "cell_type": "code",
      "metadata": {
        "id": "BESjT_GArQWD"
      },
      "source": [
        "def reconstruction_loss(img1, img2):\n",
        "    return nn.L1Loss()(img1, img2)"
      ],
      "execution_count": 27,
      "outputs": []
    },
    {
      "cell_type": "markdown",
      "metadata": {
        "id": "fsDZKp5kOHJg"
      },
      "source": [
        "We train this model for 5 epochs and observe the results."
      ]
    },
    {
      "cell_type": "code",
      "metadata": {
        "colab": {
          "base_uri": "https://localhost:8080/"
        },
        "id": "X84f0WKYoDqo",
        "outputId": "73d0ff4b-1988-4cdb-f21f-77a053b369b6"
      },
      "source": [
        "epochs = 5\n",
        "\n",
        "for i in range(epochs):\n",
        "    running_loss = 0\n",
        "    correct_preds = 0\n",
        "    total_preds = 0\n",
        "\n",
        "    for (data, ids1), (labels, ids2) in dataloader:\n",
        "        # Train a model\n",
        "        adv_optimizer.zero_grad()\n",
        "        data, labels = data.to(device), labels.to(device)\n",
        "\n",
        "        #Send data to Alice to get smashed data \n",
        "        data = data.send(models[0].location)\n",
        "        z = models[0](data)\n",
        "\n",
        "        #Send smashed data and original input to adversary. Here we assume the \n",
        "        #adversary is Bob. It could be anyone.\n",
        "        data = data.move(models[-1].location)\n",
        "        recon_input = adv_model(z.detach().move(models[-1].location).requires_grad_()).to(device)\n",
        "\n",
        "        loss = reconstruction_loss(recon_input, data)\n",
        "\n",
        "        loss.backward()\n",
        "        \n",
        "        adv_optimizer.step()\n",
        "        \n",
        "        running_loss += loss.get()\n",
        "\n",
        "    print(f\"Epoch {i} - Training loss: {running_loss/len(dataloader):.3f}\")"
      ],
      "execution_count": 28,
      "outputs": [
        {
          "output_type": "stream",
          "text": [
            "Epoch 0 - Training loss: 0.108\n",
            "Epoch 1 - Training loss: 0.102\n",
            "Epoch 2 - Training loss: 0.100\n",
            "Epoch 3 - Training loss: 0.098\n",
            "Epoch 4 - Training loss: 0.097\n"
          ],
          "name": "stdout"
        }
      ]
    },
    {
      "cell_type": "code",
      "metadata": {
        "id": "4UUqwME30F6X"
      },
      "source": [
        "def show(img):\n",
        "    npimg = img.cpu().numpy()\n",
        "    plt.imshow(np.transpose(npimg, (1,2,0)))"
      ],
      "execution_count": 29,
      "outputs": []
    },
    {
      "cell_type": "markdown",
      "metadata": {
        "id": "M8ER4sx_OLJU"
      },
      "source": [
        "We pick 32 random images, pass them through Alice's network, assume that the adversary intercepts the smashed data and observe the reconstruction quality. The results presented here are for the split performed on the fifth fully connected layer. Vary the split_layer parameter accordingly to change this."
      ]
    },
    {
      "cell_type": "code",
      "metadata": {
        "colab": {
          "base_uri": "https://localhost:8080/",
          "height": 508
        },
        "id": "XkbNoWh9yTla",
        "outputId": "9175c7e5-1304-4680-83fe-6904ff30642b"
      },
      "source": [
        "# load the model\n",
        "print('Input images')\n",
        "print('-'*50)\n",
        "\n",
        "sample_inputs, _ = next(iter(dataloader))\n",
        "#fixed_input = sample_inputs[0][:32]\n",
        "#stored the inputs in drive to get same data for comparison\n",
        "#uncomment previous line for different data\n",
        "# save fixed_input\n",
        "#with open('/content/drive/My Drive/fixed_input.pickle', 'wb') as handle:\n",
        "#    pickle.dump(fixed_input, handle)\n",
        "\n",
        "with open('/content/drive/My Drive/fixed_input.pickle', 'rb') as handle:\n",
        "    fixed_input = pickle.load(handle)\n",
        "    \n",
        "# visualize the original images of the last batch of the test set\n",
        "img = make_grid(fixed_input, nrow=8, padding=2, normalize=False,\n",
        "                range=None, scale_each=False, pad_value=0)\n",
        "plt.figure()\n",
        "show(img)\n",
        "print('Reconstructed images')\n",
        "print('-'*50)\n",
        "with torch.no_grad():\n",
        "    # visualize the reconstructed images of the last batch of test set\n",
        "    \n",
        "    fixed_input = fixed_input.send(models[0].location)\n",
        "    z = models[0](fixed_input.to(device))\n",
        "    recon_batch = adv_model(z.detach().move(models[-1].location))\n",
        "    recon_batch = recon_batch.view(32, 28, 28).unsqueeze(1)\n",
        "\n",
        "    \n",
        "    recon_batch = recon_batch.cpu().get()\n",
        "    recon_batch = make_grid(recon_batch, nrow=8, padding=2, normalize=False,\n",
        "                            range=None, scale_each=False, pad_value=0)\n",
        "    plt.figure()\n",
        "    show(recon_batch)"
      ],
      "execution_count": 30,
      "outputs": [
        {
          "output_type": "stream",
          "text": [
            "Clipping input data to the valid range for imshow with RGB data ([0..1] for floats or [0..255] for integers).\n"
          ],
          "name": "stderr"
        },
        {
          "output_type": "stream",
          "text": [
            "Input images\n",
            "--------------------------------------------------\n",
            "Reconstructed images\n",
            "--------------------------------------------------\n"
          ],
          "name": "stdout"
        },
        {
          "output_type": "display_data",
          "data": {
            "image/png": "[encoded data removed]",
            "text/plain": [
              "<Figure size 432x288 with 1 Axes>"
            ]
          },
          "metadata": {
            "tags": [],
            "needs_background": "light"
          }
        },
        {
          "output_type": "display_data",
          "data": {
            "image/png": "[encoded data removed]",
            "text/plain": [
              "<Figure size 432x288 with 1 Axes>"
            ]
          },
          "metadata": {
            "tags": [],
            "needs_background": "light"
          }
        }
      ]
    },
    {
      "cell_type": "markdown",
      "metadata": {
        "id": "ZwkPXxFTT-L_"
      },
      "source": [
        "We will further examine a very simple defense mechanism. Alice will insert some noise on the input data before releasing it to Bob. We expect the accuracy to decrease by a small amount but also worse reconstruction quality. The noise will be Gaussian with mean 0 and variance 5.\n"
      ]
    },
    {
      "cell_type": "code",
      "metadata": {
        "id": "eawPVbKSYKbR"
      },
      "source": [
        "split_layer = 17\n",
        "\n",
        "modules = []\n",
        "modules.append(\n",
        "        nn.Conv2d(\n",
        "            in_channels=image_channels, out_channels=init_channels, kernel_size=kernel_size, \n",
        "            stride=2, padding=1\n",
        "            )\n",
        "        )\n",
        "modules.append(nn.ReLU())\n",
        "modules.append(\n",
        "        nn.Conv2d(\n",
        "            in_channels=init_channels, out_channels=init_channels*2, kernel_size=kernel_size, \n",
        "            stride=2, padding=1\n",
        "            )\n",
        "        )\n",
        "modules.append(nn.ReLU())\n",
        "modules.append(\n",
        "        nn.Conv2d(\n",
        "            in_channels=init_channels*2, out_channels=init_channels*4, kernel_size=kernel_size, \n",
        "            stride=1, padding=1\n",
        "            )\n",
        "        )\n",
        "modules.append(nn.ReLU())\n",
        "modules.append(nn.Flatten())\n",
        "modules.append(nn.Linear(hidden_sizes[0], hidden_sizes[1]))\n",
        "modules.append(nn.ReLU())\n",
        "modules.append(nn.Linear(hidden_sizes[1], hidden_sizes[1]))\n",
        "modules.append(nn.ReLU())\n",
        "modules.append(nn.Linear(hidden_sizes[1], hidden_sizes[1]))\n",
        "modules.append(nn.ReLU())\n",
        "modules.append(nn.Linear(hidden_sizes[1], hidden_sizes[1]))\n",
        "modules.append(nn.ReLU())\n",
        "modules.append(nn.Linear(hidden_sizes[1], hidden_sizes[1]))\n",
        "modules.append(nn.ReLU())\n",
        "modules.append(nn.Linear(hidden_sizes[1], output_size))\n",
        "modules.append(nn.LogSoftmax(dim=1))\n",
        "\n",
        "\n",
        "models = [\n",
        "    nn.Sequential(*modules[:split_layer]),\n",
        "    nn.Sequential(*modules[split_layer:]),\n",
        "]\n",
        "\n",
        "for model in models:\n",
        "    model = model.to(device)\n",
        "\n",
        "# Create optimisers for each segment and link to them\n",
        "optimizers = [\n",
        "    optim.Adam(model.parameters(), lr=0.001,)\n",
        "    for model in models\n",
        "]\n",
        "\n",
        "# create some workers\n",
        "alice = sy.VirtualWorker(hook, id=\"alice\")\n",
        "bob = sy.VirtualWorker(hook, id=\"bob\")\n",
        "\n",
        "# Send Model Segments to model locations\n",
        "model_locations = [alice, bob]\n",
        "for model, location in zip(models, model_locations):\n",
        "    model.send(location)\n",
        "\n",
        "#Instantiate a SpliNN class with our distributed segments and their respective optimizers\n",
        "#noisy=True ensures that gaussian noise is added to Alice's output.\n",
        "noisySplitNN = SplitNN(models, optimizers, noisy = True, variance = 5)"
      ],
      "execution_count": 17,
      "outputs": []
    },
    {
      "cell_type": "markdown",
      "metadata": {
        "id": "1Ce0yXOijwcf"
      },
      "source": [
        "We train the SplitNN and see that the accuracy remains sufficiently high."
      ]
    },
    {
      "cell_type": "code",
      "metadata": {
        "colab": {
          "base_uri": "https://localhost:8080/"
        },
        "id": "IiL-ThRJYYP8",
        "outputId": "7a6917fa-0155-4454-a834-68fd6a05cf02"
      },
      "source": [
        "epochs = 5\n",
        "\n",
        "for i in range(epochs):\n",
        "    running_loss = 0\n",
        "    correct_preds = 0\n",
        "    total_preds = 0\n",
        "\n",
        "    for (data, ids1), (labels, ids2) in dataloader:\n",
        "        # Train a model\n",
        "        data, labels = data.to(device), labels.to(device)\n",
        "        data = data.send(models[0].location)\n",
        "        labels = labels.send(models[-1].location)\n",
        "\n",
        "        # Call model\n",
        "        loss, preds = train(data, labels, noisySplitNN)\n",
        "\n",
        "        # Collect statistics\n",
        "        running_loss += loss.get()\n",
        "        correct_preds += preds.max(1)[1].eq(labels).sum().get().item()\n",
        "        total_preds += preds.get().size(0)\n",
        "\n",
        "    print(f\"Epoch {i} - Training loss: {running_loss/len(dataloader):.3f} - Accuracy: {100*correct_preds/total_preds:.3f}\")"
      ],
      "execution_count": 18,
      "outputs": [
        {
          "output_type": "stream",
          "text": [
            "Epoch 0 - Training loss: 0.461 - Accuracy: 85.958\n",
            "Epoch 1 - Training loss: 0.108 - Accuracy: 97.503\n",
            "Epoch 2 - Training loss: 0.076 - Accuracy: 98.250\n",
            "Epoch 3 - Training loss: 0.067 - Accuracy: 98.542\n",
            "Epoch 4 - Training loss: 0.066 - Accuracy: 98.648\n"
          ],
          "name": "stdout"
        }
      ]
    },
    {
      "cell_type": "markdown",
      "metadata": {
        "id": "R_UyhMfKj5K_"
      },
      "source": [
        "We then define and train the adversary model/"
      ]
    },
    {
      "cell_type": "code",
      "metadata": {
        "colab": {
          "base_uri": "https://localhost:8080/"
        },
        "id": "B-Ikz4kxYteW",
        "outputId": "e854aa28-46ac-4706-aecb-d5d9dcd3006b"
      },
      "source": [
        "adv_model = adversary_model().to(device)\n",
        "print(adv_model)\n",
        "#we assume Bob has the adversary\n",
        "adv_model.send(model_locations[-1])\n",
        "# optimizer\n",
        "adv_optimizer = torch.optim.Adam(adv_model.parameters(), lr=0.001)"
      ],
      "execution_count": 19,
      "outputs": [
        {
          "output_type": "stream",
          "text": [
            "adversary_model(\n",
            "  (fc): Linear(in_features=640, out_features=2304, bias=True)\n",
            "  (up1): ConvTranspose2d(64, 32, kernel_size=(4, 4), stride=(1, 1), padding=(1, 1))\n",
            "  (up2): ConvTranspose2d(32, 16, kernel_size=(4, 4), stride=(2, 2), padding=(1, 1))\n",
            "  (up3): ConvTranspose2d(16, 1, kernel_size=(4, 4), stride=(2, 2), padding=(1, 1))\n",
            ")\n"
          ],
          "name": "stdout"
        }
      ]
    },
    {
      "cell_type": "code",
      "metadata": {
        "colab": {
          "base_uri": "https://localhost:8080/"
        },
        "id": "okBczXpsY2jG",
        "outputId": "f2ecf75b-3153-4385-a01f-ae7ee68400ce"
      },
      "source": [
        "epochs = 5\n",
        "variance = 5\n",
        "\n",
        "for i in range(epochs):\n",
        "    running_loss = 0\n",
        "    correct_preds = 0\n",
        "    total_preds = 0\n",
        "\n",
        "    for (data, ids1), (labels, ids2) in dataloader:\n",
        "        # Train a model\n",
        "        adv_optimizer.zero_grad()\n",
        "\n",
        "        data, labels = data.to(device), labels.to(device)\n",
        "        \n",
        "        #Send data to Alice to get shashed data \n",
        "        data = data.send(models[0].location)\n",
        "        noise = (variance**0.5)*torch.randn(data.shape[0], 640)\n",
        "        noise = noise.send(models[0].location).to(device)\n",
        "        z = models[0](data) + noise\n",
        "\n",
        "        #Send smashed data and original input to adversary. Here we assume the \n",
        "        #adversary is Bob. It could be anyone.\n",
        "        data = data.move(models[-1].location)\n",
        "        recon_input = adv_model(z.detach().move(models[-1].location).requires_grad_()).to(device)\n",
        "\n",
        "        loss = reconstruction_loss(recon_input, data)\n",
        "\n",
        "        loss.backward()\n",
        "\n",
        "        adv_optimizer.step()\n",
        "        \n",
        "        running_loss += loss.get()\n",
        "\n",
        "    print(f\"Epoch {i} - Training loss: {running_loss/len(dataloader):.3f}\")"
      ],
      "execution_count": 20,
      "outputs": [
        {
          "output_type": "stream",
          "text": [
            "Epoch 0 - Training loss: 0.116\n",
            "Epoch 1 - Training loss: 0.103\n",
            "Epoch 2 - Training loss: 0.102\n",
            "Epoch 3 - Training loss: 0.101\n",
            "Epoch 4 - Training loss: 0.101\n"
          ],
          "name": "stdout"
        }
      ]
    },
    {
      "cell_type": "markdown",
      "metadata": {
        "id": "ky1IfUy-j8hB"
      },
      "source": [
        "We intercept smashed data again and try to reconstruct the input. We can now see that the reconstruction quality is much worse. Thus, even such a simple defense mechanism can protect against this type of attack."
      ]
    },
    {
      "cell_type": "code",
      "metadata": {
        "colab": {
          "base_uri": "https://localhost:8080/",
          "height": 508
        },
        "id": "zN7IGqgIfgVk",
        "outputId": "9a9ca2fe-73f1-4662-b703-8c899d519b7b"
      },
      "source": [
        "# load the model\n",
        "print('Input images')\n",
        "print('-'*50)\n",
        "\n",
        "sample_inputs, _ = next(iter(dataloader))\n",
        "#fixed_input = sample_inputs[0][:32]\n",
        "#stored the inputs in drive to get same data for comparison\n",
        "#uncomment previous line for different data\n",
        "# save fixed_input\n",
        "#with open('/content/drive/My Drive/fixed_input.pickle', 'wb') as handle:\n",
        "#    pickle.dump(fixed_input, handle)\n",
        "\n",
        "with open('/content/drive/My Drive/fixed_input.pickle', 'rb') as handle:\n",
        "    fixed_input = pickle.load(handle)\n",
        "    \n",
        "# visualize the original images of the last batch of the test set\n",
        "img = make_grid(fixed_input, nrow=8, padding=2, normalize=False,\n",
        "                range=None, scale_each=False, pad_value=0)\n",
        "plt.figure()\n",
        "show(img)\n",
        "print('Reconstructed images')\n",
        "print('-'*50)\n",
        "with torch.no_grad():\n",
        "    # visualize the reconstructed images of the last batch of test set\n",
        "    \n",
        "    fixed_input = fixed_input.send(models[0].location)\n",
        "    noise = (variance**0.5)*torch.randn(32, 640)\n",
        "    noise = noise.send(models[0].location).to(device)\n",
        "    z = models[0](fixed_input.to(device)) \n",
        "    z = z + noise\n",
        "\n",
        "    recon_batch = adv_model(z.detach().move(models[-1].location))\n",
        "    recon_batch = recon_batch.view(32, 28, 28).unsqueeze(1)\n",
        "\n",
        "    \n",
        "    recon_batch = recon_batch.cpu().get()\n",
        "    recon_batch = make_grid(recon_batch, nrow=8, padding=2, normalize=False,\n",
        "                            range=None, scale_each=False, pad_value=0)\n",
        "    plt.figure()\n",
        "    show(recon_batch)"
      ],
      "execution_count": 21,
      "outputs": [
        {
          "output_type": "stream",
          "text": [
            "Clipping input data to the valid range for imshow with RGB data ([0..1] for floats or [0..255] for integers).\n"
          ],
          "name": "stderr"
        },
        {
          "output_type": "stream",
          "text": [
            "Input images\n",
            "--------------------------------------------------\n",
            "Reconstructed images\n",
            "--------------------------------------------------\n"
          ],
          "name": "stdout"
        },
        {
          "output_type": "display_data",
          "data": {
            "image/png": "[encoded data removed]",
            "text/plain": [
              "<Figure size 432x288 with 1 Axes>"
            ]
          },
          "metadata": {
            "tags": [],
            "needs_background": "light"
          }
        },
        {
          "output_type": "display_data",
          "data": {
            "image/png": "[encoded data removed]",
            "text/plain": [
              "<Figure size 432x288 with 1 Axes>"
            ]
          },
          "metadata": {
            "tags": [],
            "needs_background": "light"
          }
        }
      ]
    }
  ]
}